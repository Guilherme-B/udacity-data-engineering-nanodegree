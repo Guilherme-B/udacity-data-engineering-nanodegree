{
 "cells": [
  {
   "cell_type": "markdown",
   "metadata": {
    "editable": true
   },
   "source": [
    "# Redshift Sparkify ETL\n",
    "\n",
    "#### Process\n",
    "The process is divided into two steps:\n",
    "- **create_tables.py** responsible for dropping and re-creating both staging and presentation layer\n",
    "- **etl.py** responsible for populating both layers\n",
    "\n",
    "### Run the first step\n",
    "\n",
    "Create the staging and presentation layers.\n",
    "\n",
    "Staging:\n",
    "- staging_events\n",
    "- staging_songs\n",
    "\n",
    "Presentation:\n",
    "- time (Dim)\n",
    "- artists (Dim)\n",
    "- songs (Dim)\n",
    "- users (Dim)\n",
    "- songplays (Fact)"
   ]
  },
  {
   "cell_type": "code",
   "execution_count": 1,
   "metadata": {
    "editable": true
   },
   "outputs": [],
   "source": [
    "%run create_tables.py"
   ]
  },
  {
   "cell_type": "markdown",
   "metadata": {
    "editable": true
   },
   "source": [
    "### Run the injection step\n",
    "\n",
    "Populate the staging and presentation layers:\n",
    "- Staging layer is populated from JSON files\n",
    "- Presentation layer is populated from the staging layer"
   ]
  },
  {
   "cell_type": "code",
   "execution_count": 2,
   "metadata": {
    "editable": true
   },
   "outputs": [],
   "source": [
    "%run etl.py"
   ]
  },
  {
   "cell_type": "markdown",
   "metadata": {
    "editable": true
   },
   "source": [
    "#### Validate data is loaded"
   ]
  },
  {
   "cell_type": "code",
   "execution_count": 11,
   "metadata": {
    "editable": true
   },
   "outputs": [
    {
     "data": {
      "text/plain": [
       "(59,\n",
       " datetime.datetime(2018, 11, 4, 9, 19, 3, 796000),\n",
       " 44,\n",
       " 'paid',\n",
       " 'SOCSXKQ12A6D4F95A0',\n",
       " 'ARRE7IQ1187FB4CF13',\n",
       " 196,\n",
       " 'Waterloo-Cedar Falls, IA',\n",
       " 'Mozilla/5.0 (Macintosh; Intel Mac OS X 10.9; rv:31.0) Gecko/20100101 Firefox/31.0')"
      ]
     },
     "execution_count": 11,
     "metadata": {},
     "output_type": "execute_result"
    }
   ],
   "source": [
    "config = configparser.ConfigParser()\n",
    "config.read('dwh.cfg')\n",
    "\n",
    "conn = psycopg2.connect(\"host={} dbname={} user={} password={} port={}\".format(*config['CLUSTER'].values()))\n",
    "cur = conn.cursor()\n",
    "\n",
    "cur.execute('SELECT * FROM songplays LIMIT(10)')\n",
    "\n",
    "cur.fetchone()"
   ]
  }
 ],
 "metadata": {
  "kernelspec": {
   "display_name": "Python 3",
   "language": "python",
   "name": "python3"
  },
  "language_info": {
   "codemirror_mode": {
    "name": "ipython",
    "version": 3
   },
   "file_extension": ".py",
   "mimetype": "text/x-python",
   "name": "python",
   "nbconvert_exporter": "python",
   "pygments_lexer": "ipython3",
   "version": "3.6.3"
  }
 },
 "nbformat": 4,
 "nbformat_minor": 4
}
