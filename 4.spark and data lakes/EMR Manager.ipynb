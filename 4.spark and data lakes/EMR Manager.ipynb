{
 "cells": [
  {
   "cell_type": "markdown",
   "metadata": {
    "editable": true
   },
   "source": [
    "### EMR Manager\n",
    "\n",
    "The EMR manager is a wrapper to speed up the process of spinning an EMR cluster and process a specified Python file.\n",
    "\n",
    "#### Utilities"
   ]
  },
  {
   "cell_type": "code",
   "execution_count": null,
   "metadata": {
    "editable": true
   },
   "outputs": [],
   "source": [
    "import configparser\n",
    "import os\n",
    "\n",
    "import boto3"
   ]
  },
  {
   "cell_type": "markdown",
   "metadata": {
    "editable": true
   },
   "source": [
    "#### Load the AWS Configuration"
   ]
  },
  {
   "cell_type": "code",
   "execution_count": null,
   "metadata": {
    "editable": true
   },
   "outputs": [],
   "source": [
    "config = configparser.ConfigParser()\n",
    "config.read_file(open('dl.cfg'))\n",
    "\n",
    "AWS_KEY = config.get('AWS_DATA', 'AWS_ACCESS_KEY_ID')\n",
    "AWS_SECRET = config.get('AWS_DATA','AWS_SECRET_ACCESS_KEY')\n",
    "AWS_REGION_NAME = \"us-west-2\"\n",
    "\n",
    "if AWS_KEY is None or AWS_SECRET is None:\n",
    "    print('AWS Credentials not found!')\n",
    "else:\n",
    "    os.environ[\"AWS_ACCESS_KEY_ID\"]= AWS_KEY\n",
    "    os.environ[\"AWS_SECRET_ACCESS_KEY\"]= AWS_SECRET\n",
    "    os.environ[\"AWS_DEFAULT_REGION\"]= AWS_REGION_NAME"
   ]
  },
  {
   "cell_type": "markdown",
   "metadata": {
    "editable": true
   },
   "source": [
    "#### Spin a EMR Cluster using CLI"
   ]
  },
  {
   "cell_type": "code",
   "execution_count": null,
   "metadata": {
    "editable": true
   },
   "outputs": [],
   "source": [
    "!aws emr create-cluster --name udacity-project\\\n",
    "    --release-label emr-6.2.0 \\\n",
    "    --applications Name=Spark Name=Hadoop Name=Hive Name=JupyterHub \\\n",
    "    --instance-count 5 \\\n",
    "    --use-default-roles \\\n",
    "    --no-auto-terminate \\\n",
    "    --instance-type m5.xlarge \\\n",
    "    --no-enable-debugging \\\n",
    "    --ec2-attributes KeyName=\"emr-udacity-main\""
   ]
  },
  {
   "cell_type": "markdown",
   "metadata": {
    "editable": true
   },
   "source": [
    "#### Validate Cluster has Started"
   ]
  },
  {
   "cell_type": "code",
   "execution_count": null,
   "metadata": {
    "editable": true
   },
   "outputs": [],
   "source": [
    "emr = boto3.client('emr', \n",
    "                   aws_access_key_id=KEY,\n",
    "                   aws_secret_access_key=SECRET, \n",
    "                   region_name= AWS_REGION_NAME)"
   ]
  },
  {
   "cell_type": "code",
   "execution_count": null,
   "metadata": {
    "editable": true
   },
   "outputs": [],
   "source": [
    "emr.list_clusters(ClusterStates=['STARTING', 'RUNNING', 'WAITING'])"
   ]
  },
  {
   "cell_type": "markdown",
   "metadata": {
    "editable": true
   },
   "source": [
    "#### Upload the required files into an S3 Bucket"
   ]
  },
  {
   "cell_type": "code",
   "execution_count": null,
   "metadata": {
    "editable": true
   },
   "outputs": [],
   "source": [
    "s3 = boto3.client('s3', \n",
    "                   aws_access_key_id= AWS_KEY,\n",
    "                   aws_secret_access_key= AWS_SECRET, \n",
    "                   region_name= AWS_REGION_NAME)\n",
    "\n",
    "emr_bucket = [entry['Name'] for entry in s3.list_buckets()['Buckets'] if 'udacity' in entry['Name']  ]\n",
    "emr_bucket"
   ]
  },
  {
   "cell_type": "code",
   "execution_count": null,
   "metadata": {
    "editable": true
   },
   "outputs": [],
   "source": [
    "# Perform the actual uploading\n",
    "s3.upload_file('etl.py', emr_bucket[0], 'etl.py' )\n",
    "s3.upload_file('dl.cfg', emr_bucket[0], 'dl.cfg' )"
   ]
  },
  {
   "cell_type": "code",
   "execution_count": null,
   "metadata": {
    "editable": true
   },
   "outputs": [],
   "source": [
    "# Check if the files are in the Bucket\n",
    "[entry for entry in s3.list_objects(Bucket = emr_bucket[0])['Contents'] if 'etl.py' in entry['Key']]"
   ]
  },
  {
   "cell_type": "markdown",
   "metadata": {
    "editable": true
   },
   "source": [
    "#### Add the steps to the ETL process"
   ]
  },
  {
   "cell_type": "code",
   "execution_count": null,
   "metadata": {
    "editable": true
   },
   "outputs": [],
   "source": [
    "# Ensure there is at least one waiting cluster\n",
    "waiting_clusters = [cluster['Id'] for cluster in emr.list_clusters()['Clusters'] if cluster['Status']['State'] == 'WAITING']\n",
    "\n",
    "if len(waiting_clusters) > 0:\n",
    "    print('Good to go.')\n",
    "else:\n",
    "    print('Cluster is spinning')"
   ]
  },
  {
   "cell_type": "code",
   "execution_count": null,
   "metadata": {
    "editable": true
   },
   "outputs": [],
   "source": [
    "response = emr.add_job_flow_steps(\n",
    "    JobFlowId = waiting_clusters[0],\n",
    "    Steps=[\n",
    "        {\n",
    "            'Name': 'Run ETL.py',\n",
    "            'ActionOnFailure': 'CANCEL_AND_WAIT',\n",
    "            'HadoopJarStep': {\n",
    "                'Jar': 'command-runner.jar',\n",
    "                'Args': [\n",
    "                    'spark-submit',\n",
    "                     '--deploy-mode',\n",
    "                     'cluster',\n",
    "                     '--master',\n",
    "                     'yarn',\n",
    "                     's3a://' + emr_bucket[0] + '/etl.py'\n",
    "                ]\n",
    "            }\n",
    "        },\n",
    "    ]\n",
    ")"
   ]
  },
  {
   "cell_type": "code",
   "execution_count": null,
   "metadata": {
    "editable": true
   },
   "outputs": [],
   "source": [
    "response"
   ]
  },
  {
   "cell_type": "code",
   "execution_count": null,
   "metadata": {
    "editable": true
   },
   "outputs": [],
   "source": [
    "# Check for steps running in the cluster\n",
    "[step for step in emr.list_steps( ClusterId = waiting_clusters[0] )['Steps'] if step['Status']['State'] in ['RUNNING', 'PENDING'] ]"
   ]
  },
  {
   "cell_type": "code",
   "execution_count": null,
   "metadata": {
    "editable": true
   },
   "outputs": [],
   "source": [
    "emr.list_steps( ClusterId = waiting_clusters[0] )['Steps']"
   ]
  },
  {
   "cell_type": "markdown",
   "metadata": {
    "editable": true
   },
   "source": [
    "#### Finally delete unnused resources"
   ]
  },
  {
   "cell_type": "code",
   "execution_count": null,
   "metadata": {
    "editable": true
   },
   "outputs": [],
   "source": [
    "# including RUNNING and WAITING clusters\n",
    "standby_clusters = emr.list_clusters( ClusterStates=['RUNNING', 'WAITING'] )\n",
    "\n",
    "clusters = []\n",
    "for cluster in standby_clusters[\"Clusters\"] : \n",
    "    clusters.append( cluster[\"Id\"] )\n",
    "    \n",
    "print( \"Nr clusters: {}\".format( len(clusters) ))"
   ]
  },
  {
   "cell_type": "code",
   "execution_count": null,
   "metadata": {
    "editable": true
   },
   "outputs": [],
   "source": [
    "if len(clusters) > 0 :\n",
    "    emr.terminate_job_flows(\n",
    "        JobFlowIds = clusters\n",
    "    )\n",
    "    print( \"Terminating Clusters\" )\n",
    "else: \n",
    "    print( \"No clusters found.\" )"
   ]
  }
 ],
 "metadata": {
  "kernelspec": {
   "display_name": "Python 3",
   "language": "python",
   "name": "python3"
  },
  "language_info": {
   "codemirror_mode": {
    "name": "ipython",
    "version": 3
   },
   "file_extension": ".py",
   "mimetype": "text/x-python",
   "name": "python",
   "nbconvert_exporter": "python",
   "pygments_lexer": "ipython3",
   "version": "3.6.3"
  }
 },
 "nbformat": 4,
 "nbformat_minor": 4
}
